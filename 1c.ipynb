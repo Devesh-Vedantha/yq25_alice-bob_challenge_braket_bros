{
 "cells": [
  {
   "cell_type": "markdown",
   "metadata": {},
   "source": [
    "Yale Hackathon"
   ]
  },
  {
   "cell_type": "markdown",
   "metadata": {},
   "source": [
    "1 (c)"
   ]
  },
  {
   "cell_type": "code",
   "execution_count": 1,
   "metadata": {},
   "outputs": [],
   "source": [
    "import dynamiqs as dq\n",
    "from functions_lib import *\n",
    "import numpy as np\n",
    "import matplotlib.pyplot as plt"
   ]
  },
  {
   "cell_type": "markdown",
   "metadata": {},
   "source": [
    "Load the file and extract the 2D array of the Wigner function"
   ]
  },
  {
   "cell_type": "code",
   "execution_count": 2,
   "metadata": {},
   "outputs": [
    {
     "name": "stdout",
     "output_type": "stream",
     "text": [
      "Z: [[-0.09851549  0.00472423 -0.06897872 ... -0.09249351 -0.0611826\n",
      "  -0.00482369]\n",
      " [ 0.02245002 -0.01904438 -0.11305502 ...  0.03436894  0.02294984\n",
      "  -0.00205383]\n",
      " [-0.09105846  0.05450206 -0.04285526 ...  0.02460781 -0.01956335\n",
      "  -0.02332908]\n",
      " ...\n",
      " [-0.01053131  0.0198823   0.02113294 ... -0.00068015 -0.05721396\n",
      "  -0.09066211]\n",
      " [-0.12887546  0.1171336   0.06621192 ... -0.03860676  0.00343134\n",
      "   0.0193555 ]\n",
      " [ 0.01657709 -0.03148586  0.0590043  ...  0.01883117 -0.00649465\n",
      "  -0.01152508]]\n"
     ]
    }
   ],
   "source": [
    "file_path = \"/common/home/sps247/code/yq25_alice-bob_challenge_braket_bros/data/experimental/wigner_cat_minus.pickle\"; # change based on desired file\n",
    "Z = load_data_from_pickle(file_path)"
   ]
  },
  {
   "cell_type": "markdown",
   "metadata": {},
   "source": [
    "Gaussian noise has a Gaussian (normal) distribution. We use sigma = 0.1 as an arbitrary value as it is the most common standard deviation for Gaussian distributions."
   ]
  },
  {
   "cell_type": "code",
   "execution_count": 3,
   "metadata": {},
   "outputs": [
    {
     "name": "stdout",
     "output_type": "stream",
     "text": [
      "[[ 0.04517526 -0.02890685 -0.03794188 ... -0.14628443 -0.12611626\n",
      "  -0.07327652]\n",
      " [ 0.03023832 -0.12097055 -0.0709475  ... -0.02243874 -0.07612096\n",
      "   0.02067585]\n",
      " [-0.22757283  0.00292133 -0.09486718 ...  0.207979   -0.13975818\n",
      "  -0.06079517]\n",
      " ...\n",
      " [ 0.18673144 -0.00484452 -0.11300939 ... -0.03903654 -0.10767181\n",
      "  -0.01969363]\n",
      " [-0.09097647  0.32915383 -0.03225012 ... -0.16854271 -0.06000247\n",
      "   0.23694013]\n",
      " [-0.0838128  -0.01099965  0.19288571 ...  0.1207813   0.17397694\n",
      "   0.0439424 ]]\n"
     ]
    }
   ],
   "source": [
    "def add_gaussian_noise(Z, sigma=0.1):\n",
    "    noise = np.random.normal(0, sigma, Z.shape)\n",
    "    wigner_noisy = Z + noise\n",
    "    print(wigner_noisy)\n",
    "\n",
    "wigner_noisy = add_gaussian_noise(Z, sigma=0.1)"
   ]
  }
 ],
 "metadata": {
  "kernelspec": {
   "display_name": ".venv",
   "language": "python",
   "name": "python3"
  },
  "language_info": {
   "codemirror_mode": {
    "name": "ipython",
    "version": 3
   },
   "file_extension": ".py",
   "mimetype": "text/x-python",
   "name": "python",
   "nbconvert_exporter": "python",
   "pygments_lexer": "ipython3",
   "version": "3.12.8"
  }
 },
 "nbformat": 4,
 "nbformat_minor": 2
}
