{
 "cells": [
  {
   "cell_type": "markdown",
   "metadata": {},
   "source": [
    "Yale Hackathon"
   ]
  },
  {
   "cell_type": "markdown",
   "metadata": {},
   "source": [
    "Task 2A"
   ]
  },
  {
   "cell_type": "code",
   "execution_count": 55,
   "metadata": {},
   "outputs": [],
   "source": [
    "from functions_library import *\n",
    "import dynamiqs as dq\n",
    "from scipy.integrate import dblquad\n",
    "from scipy.ndimage import gaussian_filter, zoom\n",
    "from scipy.interpolate import RegularGridInterpolator\n",
    "import numpy as np\n"
   ]
  },
  {
   "cell_type": "markdown",
   "metadata": {},
   "source": [
    "Input noisy wigner function (real-world Wigner function measurements suffer from affine distortions)"
   ]
  },
  {
   "cell_type": "code",
   "execution_count": 23,
   "metadata": {},
   "outputs": [],
   "source": [
    "p_new = np.load('3_cat_rho.npy')"
   ]
  },
  {
   "cell_type": "code",
   "execution_count": null,
   "metadata": {},
   "outputs": [],
   "source": [
    "# input is noisy wigner function\n",
    "wig_file_path = \"data\\experimental\\wigner_cat_minus.pickle\";\n",
    "wig_noisy = load_data_from_pickle(wig_file_path);\n",
    "p_file_path = \"3_cat_rho.npy\" # path to pickle file containing new rho, output from 1b;\n",
    "p_new = np.load(p_file_path);"
   ]
  },
  {
   "cell_type": "markdown",
   "metadata": {},
   "source": [
    "Using the output of the new density matrix from Task 1b, find what the true Wigner function should be"
   ]
  },
  {
   "cell_type": "code",
   "execution_count": 79,
   "metadata": {},
   "outputs": [],
   "source": [
    "# outputs the perfect wigner function\n",
    "wig_perf = dq.wigner(state=p_new)[2]\n",
    "zoom_factors = (wig_noisy.shape[0]/wig_perf.shape[0], wig_noisy.shape[1]/wig_perf.shape[1])\n",
    "wig_perf_rescaled = zoom(wig_perf, zoom_factors)"
   ]
  },
  {
   "cell_type": "markdown",
   "metadata": {},
   "source": [
    "Use least squares regression analysis to estimate the value of a to fit the model to the data as best as possible"
   ]
  },
  {
   "cell_type": "code",
   "execution_count": 82,
   "metadata": {},
   "outputs": [],
   "source": [
    "def estimate_a(wig_noisy, wig_perf):\n",
    "    num = np.sum(wig_noisy * wig_perf)\n",
    "    denom = np.sum(wig_perf ** 2)\n",
    "    return num / denom\n",
    "    \n",
    "a = estimate_a(wig_noisy, wig_perf_rescaled)"
   ]
  },
  {
   "cell_type": "markdown",
   "metadata": {},
   "source": [
    "Knowing that the edges of the phase space of the Wigner function should approach 0, we can estimate the value of b. Then, we use Monte Carlo to minimize the value of b."
   ]
  },
  {
   "cell_type": "code",
   "execution_count": 85,
   "metadata": {},
   "outputs": [],
   "source": [
    "def estimate_b(wig_noisy, wig_perf, a, n_simulations=1000):\n",
    "    # estimate b using edges of phase space\n",
    "    top_edge = wig_noisy[0, :]\n",
    "    bottom_edge = wig_noisy[-1, :]\n",
    "    left_edge = wig_noisy[:, 0]\n",
    "    right_edge = wig_noisy[:, -1]\n",
    "\n",
    "    # combine edge values\n",
    "    edges = np.concatenate((top_edge, bottom_edge, left_edge, right_edge))\n",
    "\n",
    "    # estimate b as mean of edge values\n",
    "    b_initial = np.mean(edges)\n",
    "\n",
    "    # want to minimize b\n",
    "    b_range = 0.1 # arbitrarily set, adjust as needed\n",
    "    b_min = b_initial - b_range\n",
    "    b_max = b_initial + b_range\n",
    "\n",
    "    # use monte carlo simulation to minimize value of b\n",
    "    smallest_b = None\n",
    "    min_noise = float('inf') # want to minimize noise, so initialize to infinity\n",
    "\n",
    "    for i in range(n_simulations):\n",
    "        b = np.random.uniform(b_min, b_max)\n",
    "        wig_simulated = a * wig_perf + b # simulate noisy wigner function based on random b value\n",
    "        noise = np.mean((wig_simulated - wig_noisy) ** 2) # calculate noise as mean squared error\n",
    "\n",
    "        # update smallest b if noise is smaller than current minimum\n",
    "        if noise < min_noise:\n",
    "            min_noise = noise\n",
    "            smallest_b = b\n",
    "b = estimate_b(wig_noisy, wig_perf_rescaled, a, 1000)"
   ]
  },
  {
   "cell_type": "markdown",
   "metadata": {},
   "source": [
    "After finding the values of a and b, we apply to normalization constraint to correct the affine distortion. Since the Wigner function is represented as a 2D discrete array, we interpolate it so that we can find its integral to confirm that the function satisfies the normalization constraint:\n",
    "$$\n",
    "\\int \\int W(x,p) \\, dx \\, dp = 1\n",
    "$$\n",
    "Then, we apply the correction which is:\n",
    "$$\n",
    "W_{\\text{corrected}}(x, p) = \\frac{1}{a} \\cdot \\left(W_{\\text{measured}}(x, p) - b\\right)\n",
    "$$\n"
   ]
  },
  {
   "cell_type": "code",
   "execution_count": 87,
   "metadata": {},
   "outputs": [
    {
     "ename": "TypeError",
     "evalue": "unsupported operand type(s) for -: 'function' and 'float'",
     "output_type": "error",
     "traceback": [
      "\u001b[1;31m---------------------------------------------------------------------------\u001b[0m",
      "\u001b[1;31mTypeError\u001b[0m                                 Traceback (most recent call last)",
      "\u001b[1;32m~\\AppData\\Local\\Temp/ipykernel_14872/2512426954.py\u001b[0m in \u001b[0;36m<module>\u001b[1;34m\u001b[0m\n\u001b[0;32m     19\u001b[0m \u001b[1;33m\u001b[0m\u001b[0m\n\u001b[0;32m     20\u001b[0m \u001b[1;33m\u001b[0m\u001b[0m\n\u001b[1;32m---> 21\u001b[1;33m \u001b[0mwig_corrected\u001b[0m \u001b[1;33m=\u001b[0m \u001b[0mcorrect_affine_distortion\u001b[0m\u001b[1;33m(\u001b[0m\u001b[0mwig_noisy\u001b[0m\u001b[1;33m)\u001b[0m\u001b[1;33m\u001b[0m\u001b[1;33m\u001b[0m\u001b[0m\n\u001b[0m",
      "\u001b[1;32m~\\AppData\\Local\\Temp/ipykernel_14872/2512426954.py\u001b[0m in \u001b[0;36mcorrect_affine_distortion\u001b[1;34m(wig_noisy)\u001b[0m\n\u001b[0;32m      1\u001b[0m \u001b[1;32mdef\u001b[0m \u001b[0mcorrect_affine_distortion\u001b[0m\u001b[1;33m(\u001b[0m\u001b[0mwig_noisy\u001b[0m\u001b[1;33m)\u001b[0m\u001b[1;33m:\u001b[0m\u001b[1;33m\u001b[0m\u001b[1;33m\u001b[0m\u001b[0m\n\u001b[0;32m      2\u001b[0m     \u001b[1;31m# create interpolator to check integral value\u001b[0m\u001b[1;33m\u001b[0m\u001b[1;33m\u001b[0m\u001b[1;33m\u001b[0m\u001b[0m\n\u001b[1;32m----> 3\u001b[1;33m     \u001b[0mx\u001b[0m \u001b[1;33m=\u001b[0m \u001b[0mnp\u001b[0m\u001b[1;33m.\u001b[0m\u001b[0mlinspace\u001b[0m\u001b[1;33m(\u001b[0m\u001b[0mwig_noisy\u001b[0m\u001b[1;33m[\u001b[0m\u001b[1;33m:\u001b[0m\u001b[1;33m,\u001b[0m \u001b[1;33m-\u001b[0m\u001b[1;36m1\u001b[0m\u001b[1;33m]\u001b[0m\u001b[1;33m,\u001b[0m \u001b[1;32mlambda\u001b[0m \u001b[0mx\u001b[0m\u001b[1;33m:\u001b[0m \u001b[0mwig_noisy\u001b[0m\u001b[1;33m[\u001b[0m\u001b[1;36m0\u001b[0m\u001b[1;33m,\u001b[0m \u001b[1;33m:\u001b[0m\u001b[1;33m]\u001b[0m\u001b[1;33m,\u001b[0m \u001b[0mwig_noisy\u001b[0m\u001b[1;33m.\u001b[0m\u001b[0mshape\u001b[0m\u001b[1;33m[\u001b[0m\u001b[1;36m0\u001b[0m\u001b[1;33m]\u001b[0m\u001b[1;33m)\u001b[0m\u001b[1;33m\u001b[0m\u001b[1;33m\u001b[0m\u001b[0m\n\u001b[0m\u001b[0;32m      4\u001b[0m     \u001b[0mp\u001b[0m \u001b[1;33m=\u001b[0m \u001b[0mnp\u001b[0m\u001b[1;33m.\u001b[0m\u001b[0mlinspace\u001b[0m\u001b[1;33m(\u001b[0m\u001b[0mwig_noisy\u001b[0m\u001b[1;33m[\u001b[0m\u001b[1;33m:\u001b[0m\u001b[1;33m,\u001b[0m \u001b[1;36m0\u001b[0m\u001b[1;33m]\u001b[0m\u001b[1;33m,\u001b[0m \u001b[0mwig_noisy\u001b[0m\u001b[1;33m[\u001b[0m\u001b[1;33m:\u001b[0m\u001b[1;33m,\u001b[0m \u001b[1;33m-\u001b[0m\u001b[1;36m1\u001b[0m\u001b[1;33m]\u001b[0m\u001b[1;33m,\u001b[0m \u001b[0mwig_noisy\u001b[0m\u001b[1;33m.\u001b[0m\u001b[0mshape\u001b[0m\u001b[1;33m[\u001b[0m\u001b[1;36m1\u001b[0m\u001b[1;33m]\u001b[0m\u001b[1;33m)\u001b[0m\u001b[1;33m\u001b[0m\u001b[1;33m\u001b[0m\u001b[0m\n\u001b[0;32m      5\u001b[0m     \u001b[0minterpolator\u001b[0m \u001b[1;33m=\u001b[0m \u001b[0mRegularGridInterpolator\u001b[0m\u001b[1;33m(\u001b[0m\u001b[1;33m(\u001b[0m\u001b[0mx\u001b[0m\u001b[1;33m,\u001b[0m \u001b[0mp\u001b[0m\u001b[1;33m)\u001b[0m\u001b[1;33m,\u001b[0m \u001b[0mwig_noisy\u001b[0m\u001b[1;33m)\u001b[0m\u001b[1;33m\u001b[0m\u001b[1;33m\u001b[0m\u001b[0m\n",
      "\u001b[1;32mc:\\Users\\Russell\\AppData\\Local\\Programs\\Python\\Python39\\lib\\site-packages\\numpy\\_core\\function_base.py\u001b[0m in \u001b[0;36mlinspace\u001b[1;34m(start, stop, num, endpoint, retstep, dtype, axis, device)\u001b[0m\n\u001b[0;32m    143\u001b[0m \u001b[1;33m\u001b[0m\u001b[0m\n\u001b[0;32m    144\u001b[0m     \u001b[1;31m# Use `dtype=type(dt)` to enforce a floating point evaluation:\u001b[0m\u001b[1;33m\u001b[0m\u001b[1;33m\u001b[0m\u001b[1;33m\u001b[0m\u001b[0m\n\u001b[1;32m--> 145\u001b[1;33m     \u001b[0mdelta\u001b[0m \u001b[1;33m=\u001b[0m \u001b[0mnp\u001b[0m\u001b[1;33m.\u001b[0m\u001b[0msubtract\u001b[0m\u001b[1;33m(\u001b[0m\u001b[0mstop\u001b[0m\u001b[1;33m,\u001b[0m \u001b[0mstart\u001b[0m\u001b[1;33m,\u001b[0m \u001b[0mdtype\u001b[0m\u001b[1;33m=\u001b[0m\u001b[0mtype\u001b[0m\u001b[1;33m(\u001b[0m\u001b[0mdt\u001b[0m\u001b[1;33m)\u001b[0m\u001b[1;33m)\u001b[0m\u001b[1;33m\u001b[0m\u001b[1;33m\u001b[0m\u001b[0m\n\u001b[0m\u001b[0;32m    146\u001b[0m     y = _nx.arange(\n\u001b[0;32m    147\u001b[0m         \u001b[1;36m0\u001b[0m\u001b[1;33m,\u001b[0m \u001b[0mnum\u001b[0m\u001b[1;33m,\u001b[0m \u001b[0mdtype\u001b[0m\u001b[1;33m=\u001b[0m\u001b[0mdt\u001b[0m\u001b[1;33m,\u001b[0m \u001b[0mdevice\u001b[0m\u001b[1;33m=\u001b[0m\u001b[0mdevice\u001b[0m\u001b[1;33m\u001b[0m\u001b[1;33m\u001b[0m\u001b[0m\n",
      "\u001b[1;31mTypeError\u001b[0m: unsupported operand type(s) for -: 'function' and 'float'"
     ]
    }
   ],
   "source": [
    "def correct_affine_distortion(wig_noisy):\n",
    "    # create interpolator to check integral value\n",
    "    x = np.linspace(wig_noisy[:, -1], lambda x: wig_noisy[0, :], wig_noisy.shape[0])\n",
    "    p = np.linspace(wig_noisy[:, 0], wig_noisy[:, -1], wig_noisy.shape[1])\n",
    "    interpolator = RegularGridInterpolator((x, p), wig_noisy)\n",
    "\n",
    "    def interpolate(x, p):\n",
    "        return interpolator((x, p))\n",
    "    \n",
    "    integral, error = dblquad(interpolate, wig_noisy[:, 0], wig_noisy[:, -1], lambda x: wig_noisy[-1, :], lambda x: wig_noisy[0, :])\n",
    "\n",
    "    # check normalization\n",
    "    if not np.isclose(integral, 1):\n",
    "        raise ValueError(\"Wigner function is not normalized.\")\n",
    "    \n",
    "    else:\n",
    "        # correct wigner function\n",
    "        wig_corrected = (1 / a) * (wig_noisy - b)\n",
    "\n",
    "\n",
    "wig_corrected = correct_affine_distortion(wig_noisy)"
   ]
  },
  {
   "cell_type": "markdown",
   "metadata": {},
   "source": [
    "Apply a 2D Gaussian filter to reduce noise in the Wigner distribution. We choose to set $\\sigma$ as 0.1."
   ]
  },
  {
   "cell_type": "code",
   "execution_count": 88,
   "metadata": {},
   "outputs": [],
   "source": [
    "def gauss_filter(wig_corrected, sigma):\n",
    "    wig_smoothed = gaussian_filter(wig_corrected, sigma=0.1) # sigma arbitrarily set, may be changed\n",
    "    return wig_smoothed"
   ]
  }
 ],
 "metadata": {
  "kernelspec": {
   "display_name": "Python 3",
   "language": "python",
   "name": "python3"
  },
  "language_info": {
   "codemirror_mode": {
    "name": "ipython",
    "version": 3
   },
   "file_extension": ".py",
   "mimetype": "text/x-python",
   "name": "python",
   "nbconvert_exporter": "python",
   "pygments_lexer": "ipython3",
   "version": "3.9.6"
  }
 },
 "nbformat": 4,
 "nbformat_minor": 2
}
