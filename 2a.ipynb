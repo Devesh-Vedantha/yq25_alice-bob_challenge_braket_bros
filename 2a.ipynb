{
 "cells": [
  {
   "cell_type": "markdown",
   "metadata": {},
   "source": [
    "Yale Hackathon"
   ]
  },
  {
   "cell_type": "markdown",
   "metadata": {},
   "source": [
    "Task 2A"
   ]
  },
  {
   "cell_type": "code",
   "execution_count": null,
   "metadata": {},
   "outputs": [],
   "source": [
    "from functions_lib import *\n",
    "import dynamiqs as dq\n",
    "from scipy.integrate import dblquad\n",
    "from scipy.ndimage import gaussian_filter\n",
    "from scipy.interpolate import RegularGridInterpolator\n",
    "import numpy as np\n"
   ]
  },
  {
   "cell_type": "markdown",
   "metadata": {},
   "source": [
    "Input noisy wigner function (real-world Wigner function measurements suffer from affine distortions)"
   ]
  },
  {
   "cell_type": "code",
   "execution_count": null,
   "metadata": {},
   "outputs": [],
   "source": [
    "# input is noisy wigner function\n",
    "wig_file_path = \"/common/home/sps247/code/yq25_alice-bob_challenge_braket_bros/data/synthetic/noisy_wigner_0.pickle\"\n",
    "wig_noisy = load_data_from_pickle(wig_file_path)\n",
    "p_file_path = \"cat_rho.pickle\" # path to pickle file containing new rho, output from 1b\n",
    "p_new = load_data_from_pickle(p_file_path)"
   ]
  },
  {
   "cell_type": "markdown",
   "metadata": {},
   "source": [
    "Using the output of the new density matrix from Task 1b, find what the true Wigner function should be"
   ]
  },
  {
   "cell_type": "code",
   "execution_count": null,
   "metadata": {},
   "outputs": [],
   "source": [
    "# outputs the perfect wigner function\n",
    "wig_perf = dq.wigner(state=p_new)"
   ]
  },
  {
   "cell_type": "markdown",
   "metadata": {},
   "source": [
    "Use least squares regression analysis to estimate the value of a to fit the model to the data as best as possible"
   ]
  },
  {
   "cell_type": "code",
   "execution_count": null,
   "metadata": {},
   "outputs": [],
   "source": [
    "def estimate_a(wig_noisy, wig_perf):\n",
    "    num = np.sum(wig_noisy * wig_perf)\n",
    "    denom = np.sum(wig_perf ** 2)\n",
    "    a = num / denom"
   ]
  },
  {
   "cell_type": "markdown",
   "metadata": {},
   "source": [
    "Knowing that the edges of the phase space of the Wigner function should approach 0, we can estimate the value of b. Then, we use Monte Carlo to minimize the value of b."
   ]
  },
  {
   "cell_type": "code",
   "execution_count": null,
   "metadata": {},
   "outputs": [],
   "source": [
    "def estimate_b(wig_noisy, wig_perfect, a, n_simulations=1000):\n",
    "    # estimate b using edges of phase space\n",
    "    top_edge = wig_noisy[0, :]\n",
    "    bottom_edge = wig_noisy[-1, :]\n",
    "    left_edge = wig_noisy[:, 0]\n",
    "    right_edge = wig_noisy[:, -1]\n",
    "\n",
    "    # combine edge values\n",
    "    edges = np.concatenate((top_edge, bottom_edge, left_edge, right_edge))\n",
    "\n",
    "    # estimate b as mean of edge values\n",
    "    b_initial = np.mean(edges)\n",
    "\n",
    "    # want to minimize b\n",
    "    b_range = 0.1 # arbitrarily set, adjust as needed\n",
    "    b_min = b_initial - b_range\n",
    "    b_max = b_initial + b_range\n",
    "\n",
    "    # use monte carlo simulation to minimize value of b\n",
    "    smallest_b = None\n",
    "    min_noise = float('inf') # want to minimize noise, so initialize to infinity\n",
    "\n",
    "    for i in range(n_simulations):\n",
    "        b = np.random.uniform(b_min, b_max)\n",
    "        wig_simulated = a * wig_perf + b # simulate noisy wigner function based on random b value\n",
    "        noise = np.mean((wig_simulated - wig_noisy) ** 2) # calculate noise as mean squared error\n",
    "\n",
    "        # update smallest b if noise is smaller than current minimum\n",
    "        if noise < min_noise:\n",
    "            min_noise = noise\n",
    "            smallest_b = b\n"
   ]
  },
  {
   "cell_type": "markdown",
   "metadata": {},
   "source": [
    "After finding the values of a and b, we apply to normalization constraint to correct the affine distortion. Since the Wigner function is represented as a 2D discrete array, we interpolate it so that we can find its integral to confirm that the function satisfies the normalization constraint:\n",
    "$$\n",
    "\\int \\int W(x,p) \\, dx \\, dp = 1\n",
    "$$\n",
    "Then, we apply the correction which is:\n",
    "$$\n",
    "W_{\\text{corrected}}(x, p) = \\frac{1}{a} \\cdot \\left(W_{\\text{measured}}(x, p) - b\\right)\n",
    "$$\n"
   ]
  },
  {
   "cell_type": "code",
   "execution_count": null,
   "metadata": {},
   "outputs": [],
   "source": [
    "def correct_affine_distortion(wig_noisy, x, p):\n",
    "    # create interpolator to check integral value\n",
    "    x = np.linspace(wig_noisy[:, -1], lambda x: wig_noisy[0, :], wig_noisy.shape[0])\n",
    "    p = np.linspace(wig_noisy[:, 0], wig_noisy[:, -1], wig_noisy.shape[1])\n",
    "    interpolator = RegularGridInterpolator((x, p), wig_noisy)\n",
    "\n",
    "    def interpolate(x, p):\n",
    "        return interpolator((x, p))\n",
    "    \n",
    "    integral, error = dblquad(interpolate, wig_noisy[:, 0], wig_noisy[:, -1], lambda x: wig_noisy[-1, :], lambda x: wig_noisy[0, :])\n",
    "\n",
    "    # check normalization\n",
    "    if not np.isclose(integral, 1):\n",
    "        raise ValueError(\"Wigner function is not normalized.\")\n",
    "    \n",
    "    else:\n",
    "        # correct wigner function\n",
    "        wig_corrected = (1 / a) * (wig_noisy - b)\n",
    "\n",
    "    "
   ]
  },
  {
   "cell_type": "markdown",
   "metadata": {},
   "source": [
    "Apply a 2D Gaussian filter to reduce noise in the Wigner distribution. We choose to set $\\sigma$ as 0.1."
   ]
  },
  {
   "cell_type": "code",
   "execution_count": null,
   "metadata": {},
   "outputs": [],
   "source": [
    "def gauss_filter(wig_corrected, sigma):\n",
    "    wig_smoothed = gaussian_filter(wig_corrected, sigma=0.1) # sigma arbitrarily set, may be changed\n",
    "    return wig_smoothed"
   ]
  }
 ],
 "metadata": {
  "kernelspec": {
   "display_name": ".venv",
   "language": "python",
   "name": "python3"
  },
  "language_info": {
   "codemirror_mode": {
    "name": "ipython",
    "version": 3
   },
   "file_extension": ".py",
   "mimetype": "text/x-python",
   "name": "python",
   "nbconvert_exporter": "python",
   "pygments_lexer": "ipython3",
   "version": "3.12.8"
  }
 },
 "nbformat": 4,
 "nbformat_minor": 2
}
